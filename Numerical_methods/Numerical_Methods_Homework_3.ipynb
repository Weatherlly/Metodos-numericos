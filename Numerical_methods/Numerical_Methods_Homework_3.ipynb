{
  "nbformat": 4,
  "nbformat_minor": 0,
  "metadata": {
    "colab": {
      "provenance": [],
      "collapsed_sections": [
        "tAjKMiBpfEmX",
        "E9l05OHRJgEW",
        "wUBkxqOOc30I"
      ]
    },
    "kernelspec": {
      "name": "python3",
      "display_name": "Python 3"
    },
    "language_info": {
      "name": "python"
    }
  },
  "cells": [
    {
      "cell_type": "markdown",
      "source": [
        "**Numerical Methods - Homework 3**\n",
        "==\n",
        "**Autor:** Weatherly Moura Albuquerque\n",
        "==\n",
        "**Matrícula:** 511792\n",
        "=="
      ],
      "metadata": {
        "id": "KwXUonCqGmG_"
      }
    },
    {
      "cell_type": "code",
      "execution_count": null,
      "metadata": {
        "id": "HxItQlYs-54P"
      },
      "outputs": [],
      "source": [
        "#@title Código para importações (Executar primeiro) {display-mode: \"form\"}\n",
        "\n",
        "# This code will be hidden when the notebook is loaded.\n",
        "import numpy as np\n",
        "import pandas as pd\n",
        "import math\n",
        "import matplotlib.pyplot as plt\n",
        "import time\n",
        "from datetime import datetime"
      ]
    },
    {
      "cell_type": "markdown",
      "source": [
        "##Definição de funções a ser usadas no decorrer da execução das questões."
      ],
      "metadata": {
        "id": "tAjKMiBpfEmX"
      }
    },
    {
      "cell_type": "code",
      "source": [
        "#@title Spline Quadrática {display-mode: \"form\"}\n",
        "\n",
        "# This code will be hidden when the notebook is loaded.\n",
        "\n",
        "def splinequadratica(vetx, vety):\n",
        "  y = np.copy(vety)\n",
        "  x =np.copy(vetx)\n",
        "  n = len(x)-1\n",
        "  incog = 3*n-1\n",
        "  a, b, c = [], [], []                    \n",
        "  vet = np.zeros(incog, dtype = 'float')  \n",
        "  matA = np.zeros((incog, incog), dtype = 'float') \n",
        "  col = 0\n",
        "  idx_vet = 1\n",
        "  lin = 2\n",
        "  for i in range(0, n-1):\n",
        "    if i == 0:\n",
        "      matA[0, col], matA[0, col+1], vet[0] = x[idx_vet], 1, y[idx_vet]\n",
        "      col += 2\n",
        "      matA[1, col], matA[1, col+1], matA[1, col+2], vet[1] = x[idx_vet]**2, x[idx_vet], 1, y[idx_vet]\n",
        "    else:\n",
        "      idx_vet += 1\n",
        "      matA[lin, col], matA[lin, col+1], matA[lin, col+2], vet[lin] = x[idx_vet]**2, x[idx_vet], 1, y[idx_vet]\n",
        "      col += 3\n",
        "      matA[lin+1, col], matA[lin+1, col+1], matA[lin+1, col+2], vet[lin+1] = x[idx_vet]**2, x[idx_vet], 1, y[idx_vet]\n",
        "      lin += 2\n",
        "  matA[lin, 0], matA[lin, 1], vet[lin] = x[0], 1, y[0]\n",
        "  matA[lin+1, incog-3], matA[lin+1, incog-2], matA[lin+1, incog-1], vet[lin+1] = x[n]**2, x[n], 1, y[n]\n",
        "  lin += 2\n",
        "  idx_vet = 1\n",
        "  coli = 0\n",
        "  for i in range(0, n-1):\n",
        "    if i == 0:\n",
        "      matA[lin, coli], matA[lin, coli+2], matA[lin, coli+3]  = 1, -2*x[idx_vet], -1\n",
        "      lin += 1\n",
        "      idx_vet += 1\n",
        "      coli += 2\n",
        "    else:\n",
        "      matA[lin, coli], matA[lin, coli+1], matA[lin, coli+3], matA[lin, coli+4] = 2*x[idx_vet], 1, -2*x[idx_vet], -1\n",
        "      lin += 1\n",
        "      idx_vet += 1\n",
        "      coli += 3\n",
        "  a.append(0)\n",
        "  resp = np.linalg.solve(matA, vet)\n",
        "  cont = 0\n",
        "  while(cont <= len(resp)-3):\n",
        "    if cont == 0:\n",
        "      b.append(resp[cont])\n",
        "      c.append(resp[cont+1])\n",
        "      cont += 2\n",
        "    else:\n",
        "      a.append(resp[cont])\n",
        "      b.append(resp[cont+1])\n",
        "      c.append(resp[cont+2])\n",
        "      cont += 3\n",
        "  return a, b, c"
      ],
      "metadata": {
        "id": "OgerdipufM-c"
      },
      "execution_count": null,
      "outputs": []
    },
    {
      "cell_type": "code",
      "source": [
        "#@title Spline Cúbica {display-mode: \"form\"}\n",
        "\n",
        "# This code will be hidden when the notebook is loaded.\n",
        "\n",
        "def splinecubica(vetx, vety):\n",
        "  x = np.copy(vetx)\n",
        "  y = np.copy(vety)\n",
        "  n = len(x)\n",
        "  incog = 4*(n-1)\n",
        "  a, b, c, d = [], [], [], []\n",
        "  vet = np.zeros(incog, dtype = 'float')\n",
        "  matA = np.zeros((incog, incog), dtype = 'float') \n",
        "  col = 0\n",
        "  lin = 0\n",
        "  idx_vet = 1\n",
        "  for i in range(0, n-2):\n",
        "    matA[lin, col], matA[lin, col+1], matA[lin, col+2], matA[lin, col+3], vet[lin] = (x[idx_vet])**3, x[idx_vet]**2, x[idx_vet], 1, y[idx_vet]\n",
        "    col += 4\n",
        "    matA[lin+1, col], matA[lin+1, col+1], matA[lin+1, col+2], matA[lin+1, col+3], vet[lin+1] = x[idx_vet]**3, x[idx_vet]**2, x[idx_vet], 1, y[idx_vet]\n",
        "    idx_vet += 1\n",
        "    lin += 2\n",
        "  matA[lin, 0], matA[lin, 1], matA[lin, 2], matA[lin, 3] , vet[lin] = x[0]**3, x[0]**2, x[0], 1, y[0]\n",
        "  matA[lin+1, incog-4], matA[lin+1, incog-3], matA[lin+1, incog-2],  matA[lin+1, incog-1], vet[lin+1] = x[n-1]**3, x[n-1]**2, x[n-1], 1, y[n-1]\n",
        "  lin += 2\n",
        "  idx_vet = 1\n",
        "  coli = 0\n",
        "  for i in range(0, n-2):\n",
        "    matA[lin, coli], matA[lin, coli+1], matA[lin, coli+2], matA[lin, coli+4], matA[lin, coli+5], matA[lin, coli+6] = 3*(x[idx_vet]**2), 2*x[idx_vet], 1, -3*(x[idx_vet]**2), -2*x[idx_vet], -1\n",
        "    lin += 1\n",
        "    idx_vet += 1\n",
        "    coli += 4\n",
        "  idx_vet = 1\n",
        "  coli = 0\n",
        "  for i in range(0, n-2):\n",
        "    matA[lin, coli], matA[lin, coli+1], matA[lin, coli+4], matA[lin, coli+5] = 6*(x[idx_vet]), 2, -6*(x[idx_vet]), -2\n",
        "    lin += 1\n",
        "    idx_vet += 1\n",
        "    coli += 4\n",
        "  matA[lin, 0], matA[lin, 1] = 6*x[0], 2\n",
        "  matA[lin+1, incog-4], matA[lin+1, incog-3] = 6*x[n-1], 2\n",
        "  resp = np.linalg.solve(matA, vet)\n",
        "  cont = 0\n",
        "  while (cont<=len(resp)-4):\n",
        "    a.append(resp[cont])\n",
        "    b.append(resp[cont+1])\n",
        "    c.append(resp[cont+2])\n",
        "    d.append(resp[cont+3])\n",
        "    cont += 4\n",
        "  return a, b, c, d"
      ],
      "metadata": {
        "id": "wOB-Zi4gfVZp"
      },
      "execution_count": null,
      "outputs": []
    },
    {
      "cell_type": "code",
      "source": [
        "#@title Upsampling {display-mode: \"form\"}\n",
        "\n",
        "# This code will be hidden when the notebook is loaded.\n",
        "\n",
        "def acha_polinomios(coeficientes):\n",
        "  polinomios = []\n",
        "  for i in range(0, len(coeficientes), 4):\n",
        "    polinomios.append(coeficientes[i:i+4])\n",
        "  return polinomios\n",
        "\n",
        "def acha_as_vendas_diarias(polinomios):\n",
        "  valores = []\n",
        "  for i in range(0,len(polinomios)):\n",
        "    polinomio = polinomios[i]\n",
        "    for j in range(1,31):\n",
        "      valores.append(polinomio[0][0]*j**2 + polinomio[1][0]*j + polinomio[2][0])\n",
        "  return valores"
      ],
      "metadata": {
        "id": "bbftjMa9iVtb"
      },
      "execution_count": null,
      "outputs": []
    },
    {
      "cell_type": "code",
      "source": [
        "#@title Avaliador de spline {display-mode: \"form\"}\n",
        "\n",
        "# This code will be hidden when the notebook is loaded.\n",
        "\n",
        "def verifica_spline(ponto, vetor, X, Y, Z, W=0):\n",
        "  valor = 'fora do intervalo'\n",
        "  if W!=0: #spline cubica\n",
        "    for i in range(1, len(vetor)):\n",
        "      if (ponto>= vetor[i-1]) and (ponto <= vetor[i]):\n",
        "        valor = X[i-1]*(ponto**3) + Y[i-1]*(ponto**2) + Z[i-1]*(ponto) + W[i-1]\n",
        "  else: #spline quadratica\n",
        "    for i in range(1, len(vetor)):\n",
        "      if (ponto>= vetor[i-1]) and (ponto <= vetor[i]):\n",
        "        valor = X[i-1]*(ponto**2) + Y[i-1]*ponto + Z[i-1]\n",
        "\n",
        "  return valor"
      ],
      "metadata": {
        "id": "g_8uiycEiV6B"
      },
      "execution_count": null,
      "outputs": []
    },
    {
      "cell_type": "markdown",
      "source": [
        "## Questão 1 \n",
        "Considere os dados abaixo.\n",
        "===\n",
        "Dados|||||||\n",
        "--|--|--|--|--|--|-- \n",
        "X|1.6|2|2.5|3.2|4|4.5\n",
        "Y|2|8|14|15|8|2"
      ],
      "metadata": {
        "id": "E9l05OHRJgEW"
      }
    },
    {
      "cell_type": "markdown",
      "source": [
        "Uma spline quadrática é uma curva suave que é construída usando trechos de polinômios quadráticos que se encaixam perfeitamente em pontos dados. É chamada de spline quadrática porque cada trecho da curva é um polinômio quadrático. As splines quadráticas são úteis em aplicações em que é necessário aproximar uma curva por meio de pontos dados ou interpolar uma curva a partir de dados experimentais. Elas também podem ser usadas para suavizar gráficos e reduzir o ruído em dados."
      ],
      "metadata": {
        "id": "QIiMLr9hBhlv"
      }
    },
    {
      "cell_type": "code",
      "source": [
        "#@title Letra A - Obter e plotar o gráfico da spline quadrática que passa pelos pontos dados; {display-mode: \"form\"}\n",
        "\n",
        "# This code will be hidden when the notebook is loaded.\n",
        "xi = [1.6,2,2.5,3.2,4,4.5]\n",
        "yi = [2,8,14,15,8,2]\n",
        "\n",
        "\n",
        "inicio = time.time()\n",
        "a,b,c = splinequadratica(xi, yi)\n",
        "fim = time.time()\n",
        "\n",
        "print(f\"O tempo de duração do calculo da spline quadrática foi de {fim - inicio} segundos\"\" \\n\")\n",
        "\n",
        "\n",
        "yvalue =[]\n",
        "xvalue = np.linspace(1.6,4.5,1000) \n",
        "for k in range(0, len(xvalue)):\n",
        "  yvalue.append(verifica_spline(xvalue[k], xi, a, b, c))\n",
        "\n",
        "plt.plot(xvalue,yvalue, 'r')\n",
        "plt.plot(xi,yi,'o')\n",
        "plt.grid()\n",
        "plt.show()"
      ],
      "metadata": {
        "id": "gw3zKV1QJkfq"
      },
      "execution_count": null,
      "outputs": []
    },
    {
      "cell_type": "markdown",
      "source": [
        "A spline cúbica é uma curva suave que é usada na interpolação de pontos. É uma ferramenta comumente utilizada em aplicações de engenharia e ciência da computação para aproximar e suavizar conjuntos de dados.\n",
        "\n",
        "A spline cúbica é formada por pequenas curvas de terceiro grau, que são colocadas juntas de forma suave e contínua. Isso permite que a curva seja facilmente modificada para ajustar-se aos dados, sem que haja pontos de inflexão ou mudanças bruscas de direção.\n",
        "\n",
        "Essa ferramenta é muito útil em aplicações que requerem precisão, como na modelagem de superfícies em engenharia mecânica ou na criação de gráficos de tendência em dados financeiros. Também é utilizada em técnicas de interpolacão de imagens, como a suavização de bordas em fotografias.\n",
        "\n",
        "Ao contrário de outros métodos de interpolação, como as splines lineares ou quadráticas, a spline cúbica permite maior flexibilidade e precisão na aproximação dos dados. No entanto, ela também é mais complexa de se calcular e exige mais recursos computacionais."
      ],
      "metadata": {
        "id": "SM_y9KN6BtLq"
      }
    },
    {
      "cell_type": "code",
      "source": [
        "#@title Letra B -  Obter e plotar o gráfico da spline cúbica que passa pelos pontos dados; {display-mode: \"form\"}\n",
        "\n",
        "# This code will be hidden when the notebook is loaded.\n",
        "\n",
        "inicio = time.time()\n",
        "a,b,c,d = splinecubica(xi, yi)\n",
        "fim = time.time()\n",
        "\n",
        "print(f\"O tempo de duração do calculo da spline cúbica foi de {fim - inicio} segundos\"\" \\n\")\n",
        "\n",
        "\n",
        "yvalue =[]\n",
        "xvalue = np.linspace(1.6,4.5,1000) \n",
        "for k in range(0, len(xvalue)):\n",
        "  yvalue.append(verifica_spline(xvalue[k], xi, a, b, c,d))\n",
        "\n",
        "plt.plot(xvalue,yvalue, 'r')\n",
        "plt.plot(xi,yi,'o')\n",
        "plt.grid()\n",
        "plt.show()"
      ],
      "metadata": {
        "id": "kLs2XPUEboKX"
      },
      "execution_count": null,
      "outputs": []
    },
    {
      "cell_type": "code",
      "source": [
        "#@title Letra C - Estimar o valor de f(2,8) pelos dois métodos referidos acima {display-mode: \"form\"}\n",
        "\n",
        "# This code will be hidden when the notebook is loaded.\n",
        "\n",
        "xi = [1.6,2,2.5,3.2,4,4.5]\n",
        "yi = [2,8,14,15,8,2]\n",
        "xf = 2.8\n",
        "a,b,c = splinequadratica(xi,yi)\n",
        "print('Para a spline quadrática, temos:', verifica_spline(xf, xi, a, b, c))\n",
        "\n",
        "\n",
        "xi = [1.6,2,2.5,3.2,4,4.5]\n",
        "yi = [2,8,14,15,8,2]\n",
        "xf = 2.8\n",
        "a,b,c,d = splinecubica(xi,yi)\n",
        "print('Para a spline cúbica, temos:', verifica_spline(xf, xi, a, b, c, d))"
      ],
      "metadata": {
        "id": "xnBGiyoab5tl"
      },
      "execution_count": null,
      "outputs": []
    },
    {
      "cell_type": "markdown",
      "source": [
        "## Questão 02\n",
        "\n",
        "Use interpolação por spline cúbica para a representação dos dados abaixo, e determine o valor de 𝑥 que corresponde a 𝑓(𝑥) = 0,23 para os seguintes dados tabulados através da solução de um problema de raiz do correspondente polinômio cúbico.\n",
        "===\n",
        "Dados|||||||\n",
        "--|--|--|--|--|--|-- \n",
        "X|2|3|4|5|6|7\n",
        "Y|0.5|0.3333|0.25|0.2|0.1667|0.1429"
      ],
      "metadata": {
        "id": "cHbHIVZRcIGF"
      }
    },
    {
      "cell_type": "code",
      "source": [
        "#@title Resolução {display-mode: \"form\"}\n",
        "\n",
        "# This code will be hidden when the notebook is loaded.\n",
        "\n",
        "xi = [0.5,0.3333,0.25,0.2,0.1667,0.1429]\n",
        "xi = np.sort(xi)\n",
        "yi = [7,6,5,4,3,2]\n",
        "\n",
        "inicio = time.time()\n",
        "a,b,c,d = splinecubica(xi, yi)\n",
        "fim = time.time()\n",
        "\n",
        "print(f\"O tempo de duração do calculo da spline cúbica foi de {fim - inicio} segundos\"\" \\n\")\n",
        "\n",
        "xf = 0.23\n",
        "avaliapol(xf, xi, a, b, c,d)\n",
        "\n",
        "def func(x):\n",
        "  return a[3]*x**3 + b[3]*x**2 +c[3]*x + d[3]-0.23\n",
        "\n",
        "func(0.23)\n",
        "\n",
        "print(f\"A determinação do valor correspondente a f(x) = 0,23 é: {func(0.23)}\")"
      ],
      "metadata": {
        "id": "1sh01ikqcwVQ"
      },
      "execution_count": null,
      "outputs": []
    },
    {
      "cell_type": "markdown",
      "source": [
        "## Questão 03 \n",
        "Efetue o download do dataset Shampoo Sales Dataset1, no ambiente Python, o qual descreve o número de vendas mensais de shampoo ao longo de um período de três anos, e utilizando o processo de interpolação por spline cúbica, efetue o processo de upsampling para obter estimativas diárias de vendas. "
      ],
      "metadata": {
        "id": "wUBkxqOOc30I"
      }
    },
    {
      "cell_type": "markdown",
      "source": [
        "Upsampling é um processo em que se aumenta a taxa de amostragem de uma série temporal, aumentando assim o número de amostras da série. Isso pode ser feito inserindo valores interpolados entre as amostras existentes ou usando algum tipo de filtro para suavizar a série temporal. O objetivo do upsampling é aumentar a resolução temporal da série, permitindo uma análise mais detalhada dos dados. No entanto, é importante lembrar que o upsampling não adiciona informação nova à série, apenas aumenta o número de amostras existentes."
      ],
      "metadata": {
        "id": "Mo16VwUIB_nF"
      }
    },
    {
      "cell_type": "code",
      "source": [
        "#@title Resolução {display-mode: \"form\"}\n",
        "\n",
        "# This code will be hidden when the notebook is loaded.\n",
        "\n",
        "url = 'https://raw.githubusercontent.com/jbrownlee/Datasets/master/shampoo.csv'\n",
        "data_frame = pd.read_csv(url)\n",
        "\n",
        "def parser_to_datetime(x):\n",
        " return datetime.strptime('200'+x, '%Y-%m')\n",
        " \n",
        "series = pd.read_csv(url, header=0, parse_dates=[0], index_col=0, squeeze=True, date_parser=parser_to_datetime)\n",
        "upsampled = series.resample('D')\n",
        "\n",
        "meses = np.linspace(0,35,35) \n",
        "[a3, b3, c3, d3] = splinecubica(meses, data_frame.Sales)\n",
        "\n",
        "intervalo = np.linspace(0,35,365*3)\n",
        "valores =[]\n",
        "for i in range(0, len(intervalo)):\n",
        "  valores.append(verifica_spline(intervalo[i], meses, a3, b3, c3, d3))\n",
        "\n",
        "dia = 1\n",
        "ano = 1\n",
        "for valor in valores:\n",
        "  if (dia % 366 == 0):\n",
        "    dia = 1\n",
        "    ano += 1\n",
        "  print(f'O valor diário do dia {dia} e do ano {ano} é: {valor:.0f}')\n",
        "  dia += 1"
      ],
      "metadata": {
        "id": "IWHkIa07dEkF"
      },
      "execution_count": null,
      "outputs": []
    }
  ]
}